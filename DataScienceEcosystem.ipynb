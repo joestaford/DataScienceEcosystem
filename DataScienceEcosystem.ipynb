{
 "cells": [
  {
   "cell_type": "markdown",
   "id": "bfa52ec1-845d-4c6c-bbf4-9c4ec0be46d4",
   "metadata": {},
   "source": [
    "# Data Science Tools and Ecosystem"
   ]
  },
  {
   "cell_type": "markdown",
   "id": "049e6289-5a7c-4719-bace-bc88bb69bb89",
   "metadata": {},
   "source": [
    "In this notebook, Data Science Tools and Ecosystems are summerized."
   ]
  },
  {
   "cell_type": "markdown",
   "id": "0ff031db-2769-4af7-a0b6-3dc266cf2c87",
   "metadata": {},
   "source": [
    "Some of the popular languages that Data Scientist use are:\n",
    "1. Python\n",
    "2. R\n",
    "3. Scala\n",
    "4. Julia"
   ]
  },
  {
   "cell_type": "markdown",
   "id": "a32b6814-697b-4468-9f95-1f27e582d9e1",
   "metadata": {},
   "source": [
    "Some of the commonly used libraries used by Data Scientists include:\n",
    "1. Spark\n",
    "2. Hadoop\n",
    "3. Matplotlib\n"
   ]
  },
  {
   "cell_type": "markdown",
   "id": "896467bc-9301-4352-ae9c-977535d24fe4",
   "metadata": {},
   "source": [
    " |**Data Science Tools**|\n",
    " |----------------------|\n",
    "|1. MySQL|\n",
    "|2. PostgreSQL |\n",
    "|3. MongoDB|\n"
   ]
  },
  {
   "cell_type": "markdown",
   "id": "48c3e469-e5c1-4f08-8102-519ae2cb7cd0",
   "metadata": {},
   "source": [
    "### Below are a few examples of evaluating arithmetic expressions in Python."
   ]
  },
  {
   "cell_type": "code",
   "execution_count": 9,
   "id": "83e3d70a-a338-403f-8bed-f2276d25e1c7",
   "metadata": {},
   "outputs": [
    {
     "data": {
      "text/plain": [
       "17"
      ]
     },
     "execution_count": 9,
     "metadata": {},
     "output_type": "execute_result"
    }
   ],
   "source": [
    "## This a simple arithmetic expression to mutiply then add integers\n",
    "(3*4)+5"
   ]
  },
  {
   "cell_type": "code",
   "execution_count": 25,
   "id": "052a86b8-302c-456b-9b23-945cbd361c36",
   "metadata": {},
   "outputs": [
    {
     "data": {
      "text/plain": [
       "3.3333333333333335"
      ]
     },
     "execution_count": 25,
     "metadata": {},
     "output_type": "execute_result"
    }
   ],
   "source": [
    "## This will convert 200 minutes to hours by diving by 60\n",
    "(200/60)"
   ]
  },
  {
   "cell_type": "markdown",
   "id": "2d8e8244-6319-4087-a36c-d1c0e96b17b8",
   "metadata": {},
   "source": [
    "**Objectives:**\n",
    "+ Python\n",
    "+ C++\n",
    "+ Java\n",
    "+ SQL"
   ]
  },
  {
   "cell_type": "markdown",
   "id": "3fed734f-c259-41ff-83d8-040321c99679",
   "metadata": {},
   "source": [
    "## Author\n",
    "Joseph Wanjiru"
   ]
  },
  {
   "cell_type": "code",
   "execution_count": null,
   "id": "a59e3074-b4c3-4a54-9066-98548c520a33",
   "metadata": {},
   "outputs": [],
   "source": []
  }
 ],
 "metadata": {
  "kernelspec": {
   "display_name": "Python 3 (ipykernel)",
   "language": "python",
   "name": "python3"
  },
  "language_info": {
   "codemirror_mode": {
    "name": "ipython",
    "version": 3
   },
   "file_extension": ".py",
   "mimetype": "text/x-python",
   "name": "python",
   "nbconvert_exporter": "python",
   "pygments_lexer": "ipython3",
   "version": "3.12.4"
  }
 },
 "nbformat": 4,
 "nbformat_minor": 5
}
